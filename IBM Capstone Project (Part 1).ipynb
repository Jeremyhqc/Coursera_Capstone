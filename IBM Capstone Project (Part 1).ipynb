{
 "cells": [
  {
   "cell_type": "markdown",
   "metadata": {},
   "source": [
    "# IBM Capstone Project (Part 1)"
   ]
  },
  {
   "cell_type": "markdown",
   "metadata": {},
   "source": [
    "This project tends to solve a problem by applying data science methods on the location data gotten from FourSquare API"
   ]
  },
  {
   "cell_type": "markdown",
   "metadata": {},
   "source": [
    "## I. Description of the Project"
   ]
  },
  {
   "cell_type": "markdown",
   "metadata": {},
   "source": [
    "### 1.Introduction"
   ]
  },
  {
   "cell_type": "markdown",
   "metadata": {},
   "source": [
    "If you ever has come to New York, you will truly be attracted by its vigor atmosphere, and make a decision to stay and work there just like me. In this city, you will always have something to get fun because it never sleeps for 24 hours a day, 7 days a week. You won't have the opportunity to slow down your progress. Never-ending to-do list, booming business at every corners, and by the expertly-planned transport system which can take you everywhere in the city."
   ]
  },
  {
   "cell_type": "markdown",
   "metadata": {},
   "source": [
    "But when you live here, it's still have some problems to slove, one of the highest house prize in the world just a part but most important of them.Just imagine finding a well payed job in New York，but a penthouse at the new Peter Marino-designed condo The Getty, just steps from the High Line, is sold for $59 million. Yu must say \"It can't be serious\"."
   ]
  },
  {
   "cell_type": "markdown",
   "metadata": {},
   "source": [
    "So in the project I decide to find what aspects of a neighborhood that can effect the price of real estates to such extend.The surrounding venues or a good neighborhood? Can the venues surrounding an accommodation effect its price? People will choose a better neighborhood eventhough they need to pay more money and wait for more time? All of these need data to prove."
   ]
  },
  {
   "cell_type": "markdown",
   "metadata": {},
   "source": [
    "### 2.The Project Needs to Solve:"
   ]
  },
  {
   "cell_type": "markdown",
   "metadata": {},
   "source": [
    "This project will try to explore the neighborhoods of New York city to see:\n",
    "1.If the surrounding venues can effect the price of real estates and what kind of surrounding venues, and to what extend, can effect the price?\n",
    "2.What kind of neighborhood person most prefer to stay with them?\n",
    "\n",
    "The result can be useful for home buyers, who can roughly estimate the value of a target house over the average."
   ]
  },
  {
   "cell_type": "markdown",
   "metadata": {},
   "source": [
    "## II.Description of the data"
   ]
  },
  {
   "cell_type": "markdown",
   "metadata": {},
   "source": [
    "We will use data based on the Foursquare API. With it we can gather information on all venues in a given Neighborhood of New York. And we will know the average price by neighborhoods in New York city from CityReality."
   ]
  },
  {
   "cell_type": "markdown",
   "metadata": {},
   "source": [
    "We will also gather the same information for the place you are currently living in. "
   ]
  },
  {
   "cell_type": "markdown",
   "metadata": {},
   "source": [
    "### 1.Data collection process:"
   ]
  },
  {
   "cell_type": "markdown",
   "metadata": {},
   "source": [
    "The average price will be scrapped from the CityRealty website.\n",
    "\n",
    "For each neighborhood, call Geocoder Python to get its coordinate,and then call FourSquare API to get the surrounding venues.\n",
    "\n",
    "Count the occurrences of each venue type and attach that information to each neighborhood."
   ]
  },
  {
   "cell_type": "markdown",
   "metadata": {},
   "source": [
    "### 2.Using data to solve:"
   ]
  },
  {
   "cell_type": "markdown",
   "metadata": {},
   "source": [
    "First, correlation between price and surrounding venues will be checked.\n",
    "\n",
    "Second, if correlated, machine learning techniques (PCA, Regression, PCR) will be used to analyze the data.\n",
    "\n",
    "The output will be a list of venues types which we can use to analyse."
   ]
  }
 ],
 "metadata": {
  "kernelspec": {
   "display_name": "Python 3",
   "language": "python",
   "name": "python3"
  },
  "language_info": {
   "codemirror_mode": {
    "name": "ipython",
    "version": 3
   },
   "file_extension": ".py",
   "mimetype": "text/x-python",
   "name": "python",
   "nbconvert_exporter": "python",
   "pygments_lexer": "ipython3",
   "version": "3.7.3"
  }
 },
 "nbformat": 4,
 "nbformat_minor": 2
}
