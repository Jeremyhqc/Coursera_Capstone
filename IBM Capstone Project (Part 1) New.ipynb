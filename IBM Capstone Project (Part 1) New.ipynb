{
 "cells": [
  {
   "cell_type": "markdown",
   "metadata": {},
   "source": [
    "# IBM Capstone Project (Part 1) New"
   ]
  },
  {
   "cell_type": "markdown",
   "metadata": {},
   "source": [
    "This project tends to solve a problem by applying data science methods on the location data gotten from FourSquare API"
   ]
  },
  {
   "cell_type": "markdown",
   "metadata": {},
   "source": [
    "## I. Description of the Project"
   ]
  },
  {
   "cell_type": "markdown",
   "metadata": {},
   "source": [
    "### 1.Introduction"
   ]
  },
  {
   "cell_type": "markdown",
   "metadata": {},
   "source": [
    "If you ever has come to New York, you will truly be attracted by its vigor atmosphere, and make a decision to stay and work there just like me. In this city, you will always have something to get fun because it never sleeps for 24 hours a day, 7 days a week. You won't have the opportunity to slow down your progress. Never-ending to-do list, booming business at every corners, and by the expertly-planned transport system which can take you everywhere in the city."
   ]
  },
  {
   "cell_type": "markdown",
   "metadata": {},
   "source": [
    "But when you live here, it's still have some problems to slove, one of the highest pressure of living just a part but most important of them.Just imagine finding a well payed job in New York，but a penthouse at the new Peter Marino-designed condo The Getty, just steps from the High Line, is sold for $59 million. You must say \"It can't be serious\". Under the pressure, most people likely to choose the way such as working more time, they prefer to eat in the restaurant in order to adapt to the late off work time."
   ]
  },
  {
   "cell_type": "markdown",
   "metadata": {},
   "source": [
    "So in the project I decide to find what aspects of a neighborhood that can effect the choice of the restaurant.The taste of the food ? The distance between the restaurant and office? Can the venues surrounding an accommodation effect its price so it might me expensive for you to afford? People will choose a better evironment to enjoy the food even though they need to pay more money and wait for more time? All of these need data to prove."
   ]
  },
  {
   "cell_type": "markdown",
   "metadata": {},
   "source": [
    "### 2.The Project Needs to Solve:"
   ]
  },
  {
   "cell_type": "markdown",
   "metadata": {},
   "source": [
    "In this project we will try to find an optimal location for a restaurant. This project will try to explore the neighborhoods of New York city to see: \n",
    "1.How to guarantee the regular foot traffic for a restaurant?\n",
    "2.What kinds of factors need to consider like particular cuisine style, price range, and desired target customers?\n",
    "\n",
    "We will use our data science powers to generate a few most promising neighborhoods based on this criteria. Advantages of each area will then be clearly expressed and get the cluster character, so that best possible final location and restaurant type can be chosen by stakeholders.So, we want to explore the center candidate location that belongs to the restaurant type.\n",
    "\n",
    "Specifically, this report will be targeted to stakeholders interested in opening an restaurant in New York, United States."
   ]
  },
  {
   "cell_type": "markdown",
   "metadata": {},
   "source": [
    "## II.Description of the data"
   ]
  },
  {
   "cell_type": "markdown",
   "metadata": {},
   "source": [
    "### 1.Data collection process:"
   ]
  },
  {
   "cell_type": "markdown",
   "metadata": {},
   "source": [
    "To attempt a solution at this problem, we’ll be using the Foursquare API to fetch venue information and analyse different eighbourhoods. To fulfil the requirements of the business problem stated, we’ll specifically be looking for these types of information: \n",
    "* numbers of existing restaurants in the neighborhood (any type of restaurant).\n",
    "* number of and distance to dfifferent kinds of restaurants in the neighborhood, like any distance of neighborhood from city center number  of school in the neighborhood.\n",
    "* Data on the neighbourhoods in general, specifically the categories for each venue in each Manhattan neighbourhood.\n",
    "* popular days and hours for venues that serve our target customer, a popularity score for each of the target venues."
   ]
  },
  {
   "cell_type": "markdown",
   "metadata": {},
   "source": [
    "### 2.Using data to solve:"
   ]
  },
  {
   "cell_type": "markdown",
   "metadata": {},
   "source": [
    "To attempt a solution at this problem, we’ll be using the Foursquare API to fetch venue information and analyse different eighbourhoods. Following data sources will be needed to extract/generate the required information:\n",
    "* New-York data set: https://cocl.us/new_york_dataset   \n",
    "* One is a free data source from NYU Spatial Data Repository - https://geo.nyu.edu/catalog/nyu_2451_34572. The neighborhood locations will be obtained from here.\n",
    "* .Number of restaurants, their type, location and rating will be obtained using Foursquare API and Zomato. https://developer.foursquare.com/ "
   ]
  },
  {
   "cell_type": "code",
   "execution_count": null,
   "metadata": {},
   "outputs": [],
   "source": []
  }
 ],
 "metadata": {
  "kernelspec": {
   "display_name": "Python 3",
   "language": "python",
   "name": "python3"
  },
  "language_info": {
   "codemirror_mode": {
    "name": "ipython",
    "version": 3
   },
   "file_extension": ".py",
   "mimetype": "text/x-python",
   "name": "python",
   "nbconvert_exporter": "python",
   "pygments_lexer": "ipython3",
   "version": "3.7.3"
  }
 },
 "nbformat": 4,
 "nbformat_minor": 2
}
